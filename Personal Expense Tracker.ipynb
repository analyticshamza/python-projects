{
 "cells": [
  {
   "cell_type": "code",
   "execution_count": 4,
   "id": "95bdfd17-e315-4f61-9cae-de53e5b9155c",
   "metadata": {},
   "outputs": [
    {
     "name": "stdout",
     "output_type": "stream",
     "text": [
      "Welcome to the Personal Expense Tracker!\n",
      "\n",
      "--- Menu ---\n",
      "1. Add expense\n",
      "2. View expenses\n",
      "3. Set and track budget\n",
      "4. Save expenses\n",
      "5. Exit\n"
     ]
    },
    {
     "name": "stdin",
     "output_type": "stream",
     "text": [
      "Enter your choice (1-5):  1\n",
      "Enter the date of the expense (YYYY-MM-DD):  2025-09-02\n",
      "Enter the category of the expense (e.g., Food, Travel):  Travel\n",
      "Enter the amount spent:  60\n",
      "Enter a brief description:  Metro Ticket\n"
     ]
    },
    {
     "name": "stdout",
     "output_type": "stream",
     "text": [
      "Expense added successfully!\n",
      "\n",
      "--- Menu ---\n",
      "1. Add expense\n",
      "2. View expenses\n",
      "3. Set and track budget\n",
      "4. Save expenses\n",
      "5. Exit\n"
     ]
    },
    {
     "name": "stdin",
     "output_type": "stream",
     "text": [
      "Enter your choice (1-5):  2\n"
     ]
    },
    {
     "name": "stdout",
     "output_type": "stream",
     "text": [
      "\n",
      "--- Your Expenses ---\n",
      "Date: 2025-09-18, Category: Food, Amount: $190.00, Description: Bought Frozen Peas and Noodles\n",
      "Date: 2025-09-17, Category: Travel, Amount: $60.00, Description: Metro Ticket\n",
      "Date: 2025-09-16, Category: Food, Amount: $350.00, Description: Bought Groceries\n",
      "Date: 2025-09-15, Category: Movie, Amount: $170.00, Description: Watched a movie at cinema\n",
      "Date: 2025-09-12, Category: Bike Insurance, Amount: $4500.00, Description: Insurance for bike \n",
      "Date: 2025-09-08, Category: Food, Amount: $1400.00, Description: Ate at BBQ \n",
      "Date: 2025-09-07, Category: Travel, Amount: $3100.00, Description: Flight Ticket to Goa\n",
      "Date: 2025-09-11, Category: Travel, Amount: $2700.00, Description: Flight Ticket to Mumbai\n",
      "Date: 2025-09-05, Category: Gift, Amount: $120.00, Description: gave a gift to teacher\n",
      "Date: 2025-09-01, Category: Travel, Amount: $300.00, Description: Cab Fare\n",
      "Date: 2025-08-31, Category: Food, Amount: $222.00, Description: 1\n",
      "Date: 2025-09-02, Category: Travel, Amount: $60.00, Description: Metro Ticket\n",
      "---------------------\n",
      "\n",
      "\n",
      "--- Menu ---\n",
      "1. Add expense\n",
      "2. View expenses\n",
      "3. Set and track budget\n",
      "4. Save expenses\n",
      "5. Exit\n"
     ]
    },
    {
     "name": "stdin",
     "output_type": "stream",
     "text": [
      "Enter your choice (1-5):  3\n",
      "Enter 'S' to set a budget or 'T' to track your budget:  S\n",
      "Enter your total monthly budget:  25000\n"
     ]
    },
    {
     "name": "stdout",
     "output_type": "stream",
     "text": [
      "Monthly budget set successfully!\n",
      "\n",
      "--- Menu ---\n",
      "1. Add expense\n",
      "2. View expenses\n",
      "3. Set and track budget\n",
      "4. Save expenses\n",
      "5. Exit\n"
     ]
    },
    {
     "name": "stdin",
     "output_type": "stream",
     "text": [
      "Enter your choice (1-5):  3\n",
      "Enter 'S' to set a budget or 'T' to track your budget:  T\n"
     ]
    },
    {
     "name": "stdout",
     "output_type": "stream",
     "text": [
      "\n",
      "--- Budget Tracker ---\n",
      "Total expenses so far: $13172.00\n",
      "Monthly budget: $25000.00\n",
      "You have $11828.00 left for the month.\n",
      "---------------------\n",
      "\n",
      "\n",
      "--- Menu ---\n",
      "1. Add expense\n",
      "2. View expenses\n",
      "3. Set and track budget\n",
      "4. Save expenses\n",
      "5. Exit\n"
     ]
    },
    {
     "name": "stdin",
     "output_type": "stream",
     "text": [
      "Enter your choice (1-5):  4\n"
     ]
    },
    {
     "name": "stdout",
     "output_type": "stream",
     "text": [
      "Expenses saved to expenses.csv.\n",
      "\n",
      "--- Menu ---\n",
      "1. Add expense\n",
      "2. View expenses\n",
      "3. Set and track budget\n",
      "4. Save expenses\n",
      "5. Exit\n"
     ]
    },
    {
     "name": "stdin",
     "output_type": "stream",
     "text": [
      "Enter your choice (1-5):  5\n"
     ]
    },
    {
     "name": "stdout",
     "output_type": "stream",
     "text": [
      "Expenses saved to expenses.csv.\n",
      "Exiting program. Goodbye!\n"
     ]
    }
   ],
   "source": [
    "# import csv\n",
    "import datetime\n",
    "import os\n",
    "\n",
    "EXPENSES_FILE = 'expenses.csv'\n",
    "BUDGET_FILE = 'budget.txt'\n",
    "\n",
    "def add_expense(expenses):\n",
    "    \"\"\"Prompts the user for expense details and adds them to the expenses list.\"\"\"\n",
    "    date_str = input(\"Enter the date of the expense (YYYY-MM-DD): \")\n",
    "    try:\n",
    "        datetime.datetime.strptime(date_str, '%Y-%m-%d')\n",
    "    except ValueError:\n",
    "        print(\"Invalid date format. Please use YYYY-MM-DD.\")\n",
    "        return\n",
    "\n",
    "    category = input(\"Enter the category of the expense (e.g., Food, Travel): \")\n",
    "    try:\n",
    "        amount = float(input(\"Enter the amount spent: \"))\n",
    "    except ValueError:\n",
    "        print(\"Invalid amount. Please enter a number.\")\n",
    "        return\n",
    "\n",
    "    description = input(\"Enter a brief description: \")\n",
    "\n",
    "    new_expense = {\n",
    "        'date': date_str,\n",
    "        'category': category,\n",
    "        'amount': amount,\n",
    "        'description': description\n",
    "    }\n",
    "    expenses.append(new_expense)\n",
    "    print(\"Expense added successfully!\")\n",
    "\n",
    "def view_expenses(expenses):\n",
    "    \"\"\"Displays all stored expenses.\"\"\"\n",
    "    if not expenses:\n",
    "        print(\"No expenses to display.\")\n",
    "        return\n",
    "\n",
    "    print(\"\\n--- Your Expenses ---\")\n",
    "    for expense in expenses:\n",
    "        if all(key in expense for key in ['date', 'category', 'amount', 'description']):\n",
    "            print(f\"Date: {expense['date']}, Category: {expense['category']}, Amount: ${expense['amount']:.2f}, Description: {expense['description']}\")\n",
    "        else:\n",
    "            print(\"Incomplete expense record found. Skipping.\")\n",
    "    print(\"---------------------\\n\")\n",
    "\n",
    "def set_budget():\n",
    "    \"\"\"Allows the user to set a monthly budget.\"\"\"\n",
    "    try:\n",
    "        budget = float(input(\"Enter your total monthly budget: \"))\n",
    "        with open(BUDGET_FILE, 'w') as f:\n",
    "            f.write(str(budget))\n",
    "        print(\"Monthly budget set successfully!\")\n",
    "    except ValueError:\n",
    "        print(\"Invalid budget amount. Please enter a number.\")\n",
    "\n",
    "def track_budget(expenses):\n",
    "    \"\"\"Calculates total expenses and compares them to the budget.\"\"\"\n",
    "    total_expenses = sum(expense['amount'] for expense in expenses)\n",
    "\n",
    "    budget = 0.0\n",
    "    if os.path.exists(BUDGET_FILE):\n",
    "        with open(BUDGET_FILE, 'r') as f:\n",
    "            try:\n",
    "                budget = float(f.read())\n",
    "            except ValueError:\n",
    "                print(\"Invalid budget data in file. Please set a new budget.\")\n",
    "                return\n",
    "    else:\n",
    "        print(\"No budget set. Please set a budget first.\")\n",
    "        return\n",
    "\n",
    "    print(f\"\\n--- Budget Tracker ---\")\n",
    "    print(f\"Total expenses so far: ${total_expenses:.2f}\")\n",
    "    print(f\"Monthly budget: ${budget:.2f}\")\n",
    "\n",
    "    remaining_balance = budget - total_expenses\n",
    "    if remaining_balance < 0:\n",
    "        print(f\"You have exceeded your budget by ${-remaining_balance:.2f}!\")\n",
    "    else:\n",
    "        print(f\"You have ${remaining_balance:.2f} left for the month.\")\n",
    "    print(\"---------------------\\n\")\n",
    "\n",
    "def save_expenses(expenses):\n",
    "    \"\"\"Saves all expenses to a CSV file.\"\"\"\n",
    "    with open(EXPENSES_FILE, 'w', newline='') as csvfile:\n",
    "        fieldnames = ['date', 'category', 'amount', 'description']\n",
    "        writer = csv.DictWriter(csvfile, fieldnames=fieldnames)\n",
    "        writer.writeheader()\n",
    "        writer.writerows(expenses)\n",
    "    print(\"Expenses saved to expenses.csv.\")\n",
    "\n",
    "def load_expenses():\n",
    "    \"\"\"Loads expenses from a CSV file.\"\"\"\n",
    "    expenses = []\n",
    "    if os.path.exists(EXPENSES_FILE):\n",
    "        with open(EXPENSES_FILE, 'r') as csvfile:\n",
    "            reader = csv.DictReader(csvfile)\n",
    "            for row in reader:\n",
    "                try:\n",
    "                    row['amount'] = float(row['amount'])\n",
    "                    expenses.append(row)\n",
    "                except (ValueError, KeyError):\n",
    "                    print(f\"Skipping invalid row in CSV: {row}\")\n",
    "    return expenses\n",
    "\n",
    "def main():\n",
    "    \"\"\"Main function to run the interactive menu.\"\"\"\n",
    "    expenses = load_expenses()\n",
    "    print(\"Welcome to the Personal Expense Tracker!\")\n",
    "\n",
    "    while True:\n",
    "        print(\"\\n--- Menu ---\")\n",
    "        print(\"1. Add expense\")\n",
    "        print(\"2. View expenses\")\n",
    "        print(\"3. Set and track budget\")\n",
    "        print(\"4. Save expenses\")\n",
    "        print(\"5. Exit\")\n",
    "        choice = input(\"Enter your choice (1-5): \")\n",
    "\n",
    "        if choice == '1':\n",
    "            add_expense(expenses)\n",
    "        elif choice == '2':\n",
    "            view_expenses(expenses)\n",
    "        elif choice == '3':\n",
    "            budget_choice = input(\"Enter 'S' to set a budget or 'T' to track your budget: \").upper()\n",
    "            if budget_choice == 'S':\n",
    "                set_budget()\n",
    "            elif budget_choice == 'T':\n",
    "                track_budget(expenses)\n",
    "            else:\n",
    "                print(\"Invalid choice. Please enter 'S' or 'T'.\")\n",
    "        elif choice == '4':\n",
    "            save_expenses(expenses)\n",
    "        elif choice == '5':\n",
    "            save_expenses(expenses)\n",
    "            print(\"Exiting program. Goodbye!\")\n",
    "            break\n",
    "        else:\n",
    "            print(\"Invalid choice. Please enter a number between 1 and 5.\")\n",
    "\n",
    "if __name__ == \"__main__\":\n",
    "    main()"
   ]
  },
  {
   "cell_type": "code",
   "execution_count": null,
   "id": "c53f52ed-714b-4c85-9355-dd3ee0a10de2",
   "metadata": {},
   "outputs": [],
   "source": []
  }
 ],
 "metadata": {
  "kernelspec": {
   "display_name": "Python 3 (ipykernel)",
   "language": "python",
   "name": "python3"
  },
  "language_info": {
   "codemirror_mode": {
    "name": "ipython",
    "version": 3
   },
   "file_extension": ".py",
   "mimetype": "text/x-python",
   "name": "python",
   "nbconvert_exporter": "python",
   "pygments_lexer": "ipython3",
   "version": "3.11.13"
  }
 },
 "nbformat": 4,
 "nbformat_minor": 5
}
