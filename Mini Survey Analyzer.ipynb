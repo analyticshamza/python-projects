{
 "cells": [
  {
   "cell_type": "code",
   "execution_count": 1,
   "id": "020a026e-c27f-4a46-bdc6-9dfd391f82fb",
   "metadata": {},
   "outputs": [
    {
     "name": "stdout",
     "output_type": "stream",
     "text": [
      "\n",
      "Respondent 1:\n"
     ]
    },
    {
     "name": "stdin",
     "output_type": "stream",
     "text": [
      "Enter gender (M/F):  M\n",
      "Enter satisfaction score (1-5):  3\n"
     ]
    },
    {
     "name": "stdout",
     "output_type": "stream",
     "text": [
      "\n",
      "Respondent 2:\n"
     ]
    },
    {
     "name": "stdin",
     "output_type": "stream",
     "text": [
      "Enter gender (M/F):  m\n",
      "Enter satisfaction score (1-5):  2\n"
     ]
    },
    {
     "name": "stdout",
     "output_type": "stream",
     "text": [
      "\n",
      "Respondent 3:\n"
     ]
    },
    {
     "name": "stdin",
     "output_type": "stream",
     "text": [
      "Enter gender (M/F):  m\n",
      "Enter satisfaction score (1-5):  2\n"
     ]
    },
    {
     "name": "stdout",
     "output_type": "stream",
     "text": [
      "\n",
      "Respondent 4:\n"
     ]
    },
    {
     "name": "stdin",
     "output_type": "stream",
     "text": [
      "Enter gender (M/F):  f\n",
      "Enter satisfaction score (1-5):  3\n"
     ]
    },
    {
     "name": "stdout",
     "output_type": "stream",
     "text": [
      "\n",
      "Respondent 5:\n"
     ]
    },
    {
     "name": "stdin",
     "output_type": "stream",
     "text": [
      "Enter gender (M/F):  m\n",
      "Enter satisfaction score (1-5):  4\n"
     ]
    },
    {
     "name": "stdout",
     "output_type": "stream",
     "text": [
      "\n",
      "Respondent 6:\n"
     ]
    },
    {
     "name": "stdin",
     "output_type": "stream",
     "text": [
      "Enter gender (M/F):  m\n",
      "Enter satisfaction score (1-5):  3\n"
     ]
    },
    {
     "name": "stdout",
     "output_type": "stream",
     "text": [
      "\n",
      "Respondent 7:\n"
     ]
    },
    {
     "name": "stdin",
     "output_type": "stream",
     "text": [
      "Enter gender (M/F):  f\n",
      "Enter satisfaction score (1-5):  3\n"
     ]
    },
    {
     "name": "stdout",
     "output_type": "stream",
     "text": [
      "\n",
      "Respondent 8:\n"
     ]
    },
    {
     "name": "stdin",
     "output_type": "stream",
     "text": [
      "Enter gender (M/F):  f\n",
      "Enter satisfaction score (1-5):  4\n"
     ]
    },
    {
     "name": "stdout",
     "output_type": "stream",
     "text": [
      "\n",
      "Respondent 9:\n"
     ]
    },
    {
     "name": "stdin",
     "output_type": "stream",
     "text": [
      "Enter gender (M/F):  m\n",
      "Enter satisfaction score (1-5):  5\n"
     ]
    },
    {
     "name": "stdout",
     "output_type": "stream",
     "text": [
      "\n",
      "Respondent 10:\n"
     ]
    },
    {
     "name": "stdin",
     "output_type": "stream",
     "text": [
      "Enter gender (M/F):  m\n",
      "Enter satisfaction score (1-5):  4\n"
     ]
    },
    {
     "name": "stdout",
     "output_type": "stream",
     "text": [
      "\n",
      "--- Survey Analysis ---\n",
      "Total Male Respondents: 7\n",
      "Total Female Respondents: 3\n",
      "Average Satisfaction Score: 3.30\n",
      "Respondents with High Satisfaction (4 or 5): 4\n"
     ]
    }
   ],
   "source": [
    "# A list to store the survey responses\n",
    "survey_data = []\n",
    "\n",
    "# Collect data from 5 survey respondents\n",
    "# The for loop gets user input and stores it as strings\n",
    "for i in range(10):\n",
    "    print(f\"\\nRespondent {i+1}:\")\n",
    "    gender = input(\"Enter gender (M/F): \").upper()\n",
    "    while gender not in ['M', 'F']:\n",
    "        gender = input(\"Invalid input. Please enter M or F: \").upper()\n",
    "    \n",
    "    score = input(\"Enter satisfaction score (1-5): \")\n",
    "    while not score.isdigit() or int(score) < 1 or int(score) > 5:\n",
    "        score = input(\"Invalid input. Please enter a number from 1 to 5: \")\n",
    "    \n",
    "    # Store the gender and score as a single string\n",
    "    survey_data.append(f\"{gender},{score}\")\n",
    "\n",
    "# A user-defined function to analyze the data\n",
    "def analyze_data(data):\n",
    "    male_count = 0\n",
    "    female_count = 0\n",
    "    total_score = 0\n",
    "    high_satisfaction_count = 0\n",
    "    \n",
    "    # The for loop iterates through each response in the list\n",
    "    for response in data:\n",
    "        # Use string methods to split the response into gender and score\n",
    "        parts = response.split(',')\n",
    "        gender = parts[0]\n",
    "        score = int(parts[1])\n",
    "        \n",
    "        # Use if-else to count genders\n",
    "        if gender == 'M':\n",
    "            male_count += 1\n",
    "        elif gender == 'F':\n",
    "            female_count += 1\n",
    "            \n",
    "        # Add the score to the total\n",
    "        total_score += score\n",
    "        \n",
    "        # Use if-else to count high satisfaction scores\n",
    "        if score >= 4:\n",
    "            high_satisfaction_count += 1\n",
    "    \n",
    "    # Calculate the average score\n",
    "    average_score = total_score / len(data)\n",
    "    \n",
    "    # Print the analysis results\n",
    "    print(\"\\n--- Survey Analysis ---\")\n",
    "    print(f\"Total Male Respondents: {male_count}\")\n",
    "    print(f\"Total Female Respondents: {female_count}\")\n",
    "    print(f\"Average Satisfaction Score: {average_score:.2f}\")\n",
    "    print(f\"Respondents with High Satisfaction (4 or 5): {high_satisfaction_count}\")\n",
    "\n",
    "# Call the function to run the analysis on the collected data\n",
    "analyze_data(survey_data)"
   ]
  },
  {
   "cell_type": "code",
   "execution_count": null,
   "id": "698fd729-9347-4c29-bfd8-e3786d64ee9b",
   "metadata": {},
   "outputs": [],
   "source": []
  }
 ],
 "metadata": {
  "kernelspec": {
   "display_name": "Python 3 (ipykernel)",
   "language": "python",
   "name": "python3"
  },
  "language_info": {
   "codemirror_mode": {
    "name": "ipython",
    "version": 3
   },
   "file_extension": ".py",
   "mimetype": "text/x-python",
   "name": "python",
   "nbconvert_exporter": "python",
   "pygments_lexer": "ipython3",
   "version": "3.11.13"
  }
 },
 "nbformat": 4,
 "nbformat_minor": 5
}
