{
 "cells": [
  {
   "cell_type": "code",
   "execution_count": 1,
   "id": "d9b2e201-2b0d-4108-91f3-053f1a959db3",
   "metadata": {},
   "outputs": [
    {
     "name": "stdin",
     "output_type": "stream",
     "text": [
      "Enter Customer Name:  John Doe\n",
      "Enter Order Value:  7000\n"
     ]
    }
   ],
   "source": [
    "# E-Commerce Analytics\n",
    "\n",
    "# Take input\n",
    "Cust_Name = input(\"Enter Customer Name: \")\n",
    "Ord_Val = float(input(\"Enter Order Value: \"))\n",
    "\n",
    "# Control Flow Logic\n",
    "if Ord_Val >= 10000:\n",
    "    discount_percent = 20\n",
    "    shipping = \"Free\"\n",
    "    Category = \"Platinum Customer\"\n",
    "elif 5000 <= Ord_Val < 10000:\n",
    "    discount_percent = 10\n",
    "    shipping = \"Free\"\n",
    "    Category = \"Gold Customer\"\n",
    "elif 2000 <= Ord_Val < 5000:\n",
    "    discount_percent = 5\n",
    "    shipping = \"Free\"\n",
    "    Category = \"Silver Customer\"\n",
    "elif 500 <= Ord_Val < 2000:\n",
    "    discount_percent = 0\n",
    "    shipping = \"Standard (Paid)\"\n",
    "    Category = \"Bronze Customer\"\n",
    "elif 0 <= Ord_Val < 500:\n",
    "    discount_percent = 0\n",
    "    shipping = \"₹100 extra\"\n",
    "    Category = \"Low Value Customer\"\n",
    "else:\n",
    "    discount_percent = None\n",
    "    shipping = None\n",
    "    Category = \"Invalid Order\""
   ]
  },
  {
   "cell_type": "code",
   "execution_count": 2,
   "id": "a9713868-4d16-4eef-a4e6-e7b06daa47f0",
   "metadata": {},
   "outputs": [
    {
     "name": "stdout",
     "output_type": "stream",
     "text": [
      "\n",
      "📦 E-Commerce Analytics Report\n",
      "Customer: John Doe\n",
      "Order Value: ₹ 7000.0\n",
      "Category: Gold Customer\n",
      "Discount: 10% (₹ 700.0 )\n",
      "Shipping Charges: Free\n"
     ]
    }
   ],
   "source": [
    "# Show Result\n",
    "print(\"\\n📦 E-Commerce Analytics Report\")\n",
    "print(\"Customer:\", Cust_Name)\n",
    "print(\"Order Value: ₹\", Ord_Val)\n",
    "print(\"Category:\", Category)\n",
    "\n",
    "if discount_percent is not None:\n",
    "    discount_amount = (discount_percent/100) * Ord_Val\n",
    "    print(\"Discount:\", f\"{discount_percent}%\", \"(₹\", discount_amount, \")\")\n",
    "    print(\"Shipping Charges:\", shipping)\n",
    "else:\n",
    "    print(\"Invalid Order! Please check value entered.\")\n",
    "    "
   ]
  },
  {
   "cell_type": "code",
   "execution_count": null,
   "id": "d2c2769a-a99f-4c47-8366-6e68a271c586",
   "metadata": {},
   "outputs": [],
   "source": []
  }
 ],
 "metadata": {
  "kernelspec": {
   "display_name": "Python 3 (ipykernel)",
   "language": "python",
   "name": "python3"
  },
  "language_info": {
   "codemirror_mode": {
    "name": "ipython",
    "version": 3
   },
   "file_extension": ".py",
   "mimetype": "text/x-python",
   "name": "python",
   "nbconvert_exporter": "python",
   "pygments_lexer": "ipython3",
   "version": "3.11.13"
  }
 },
 "nbformat": 4,
 "nbformat_minor": 5
}
