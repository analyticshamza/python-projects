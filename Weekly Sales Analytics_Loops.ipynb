{
 "cells": [
  {
   "cell_type": "code",
   "execution_count": null,
   "id": "23aa5ccb-a90f-4aea-bc94-6317d7498cc0",
   "metadata": {},
   "outputs": [
    {
     "name": "stdout",
     "output_type": "stream",
     "text": [
      "=== 📊 Weekly Sales Analytics ===\n",
      "\n",
      "Enter sales for 7 days:\n"
     ]
    },
    {
     "name": "stdin",
     "output_type": "stream",
     "text": [
      "Day 1 Sales: ₹ 2332\n",
      "Day 2 Sales: ₹ 2332\n",
      "Day 3 Sales: ₹ 212\n",
      "Day 4 Sales: ₹ 2323\n",
      "Day 5 Sales: ₹ 343\n",
      "Day 6 Sales: ₹ 2334\n",
      "Day 7 Sales: ₹ 4543\n"
     ]
    },
    {
     "name": "stdout",
     "output_type": "stream",
     "text": [
      "\n",
      "📊 Weekly Report\n",
      "Total Sales: ₹ 14419.0\n",
      "Average Sales: ₹ 2059.86\n",
      "Highest Sales: ₹ 4543.0\n",
      "Lowest Sales: ₹ 212.0\n"
     ]
    }
   ],
   "source": [
    "print(\"=== 📊 Weekly Sales Analytics ===\")\n",
    "\n",
    "while True:\n",
    "    # Input: sales for 7 days\n",
    "    sales = []\n",
    "    print(\"\\nEnter sales for 7 days:\")\n",
    "    for i in range(1, 8):\n",
    "        day_sales = float(input(f\"Day {i} Sales: ₹\"))\n",
    "        sales.append(day_sales)\n",
    "\n",
    "    # Calculate total sales\n",
    "    total = sum(sales)\n",
    "\n",
    "    # Calculate average sales\n",
    "    avg = total / len(sales)\n",
    "    avg_output = \"{:.2f}\".format(avg)\n",
    "    \n",
    "    # Find max & min sales\n",
    "    max_sale = max(sales)\n",
    "    min_sale = min(sales)\n",
    "\n",
    "    # Display report\n",
    "    print(\"\\n📊 Weekly Report\")\n",
    "    print(\"Total Sales: ₹\", total)\n",
    "    print(\"Average Sales: ₹\", avg_output)\n",
    "    print(\"Highest Sales: ₹\", max_sale)\n",
    "    print(\"Lowest Sales: ₹\", min_sale)\n",
    "\n",
    "    # Continue or stop\n",
    "    choice = input(\"\\nDo you want to analyze another week? (yes/no): \").lower()\n",
    "    if choice != \"yes\":\n",
    "        print(\"\\n✅ Analysis complete. Thank you!\")\n",
    "        break\n",
    "\n",
    "\n",
    "\n"
   ]
  },
  {
   "cell_type": "code",
   "execution_count": null,
   "id": "71e73f9b-7350-4dcf-a365-8cd202087867",
   "metadata": {},
   "outputs": [],
   "source": []
  }
 ],
 "metadata": {
  "kernelspec": {
   "display_name": "Python 3 (ipykernel)",
   "language": "python",
   "name": "python3"
  },
  "language_info": {
   "codemirror_mode": {
    "name": "ipython",
    "version": 3
   },
   "file_extension": ".py",
   "mimetype": "text/x-python",
   "name": "python",
   "nbconvert_exporter": "python",
   "pygments_lexer": "ipython3",
   "version": "3.11.13"
  }
 },
 "nbformat": 4,
 "nbformat_minor": 5
}
